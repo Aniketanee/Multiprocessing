{
 "cells": [
  {
   "cell_type": "code",
   "execution_count": null,
   "id": "b1f87eb4-f821-458a-82a5-b67b1e580918",
   "metadata": {},
   "outputs": [],
   "source": [
    "Multiprocessing Assingment "
   ]
  },
  {
   "cell_type": "markdown",
   "id": "aae57458-8bcb-4fee-bd0d-2b056af70184",
   "metadata": {},
   "source": [
    "Solution . 1"
   ]
  },
  {
   "cell_type": "markdown",
   "id": "7ebae458-c9e8-4aac-808e-24658c428692",
   "metadata": {},
   "source": [
    "Multiprocessing in Python refers to the ability of the Python programming language to create and manage multiple processes concurrently. A process is a separate instance of a running program with its own memory space, system resources, and Python interpreter. "
   ]
  },
  {
   "cell_type": "markdown",
   "id": "10783e7c-cd41-4805-acb4-dd4359673cdc",
   "metadata": {},
   "source": [
    "Solution . 2"
   ]
  },
  {
   "cell_type": "markdown",
   "id": "08c7e479-0038-4519-9a79-41072599841a",
   "metadata": {},
   "source": [
    "   Multiprocessing: In multiprocessing, you create multiple independent processes, each with its own memory space and Python interpreter. These processes run entirely separately from each other and communicate via inter-process communication  mechanisms like pipes or queues.\n",
    " \n",
    "   Multithreading: Multithreading involves creating multiple threads within a single process. All threads within a process share the same memory space and resources. They can communicate and share data more directly but must be carefully synchronized to avoid data conflicts."
   ]
  },
  {
   "cell_type": "markdown",
   "id": "9e4dfbb9-5c99-4300-9704-56f4246d6b7b",
   "metadata": {},
   "source": [
    "Solution . 3"
   ]
  },
  {
   "cell_type": "code",
   "execution_count": 2,
   "id": "e3005632-4757-4374-93e1-132e8c0eea90",
   "metadata": {},
   "outputs": [
    {
     "name": "stdout",
     "output_type": "stream",
     "text": [
      "Process ID: 756, Result: 10\n",
      "Main process continues...\n"
     ]
    }
   ],
   "source": [
    "import multiprocessing\n",
    "\n",
    "def my_function(value):\n",
    "    \"\"\"This function will be executed by the new process.\"\"\"\n",
    "    result = value * 2\n",
    "    print(f\"Process ID: {multiprocessing.current_process().pid}, Result: {result}\")\n",
    "\n",
    "if __name__ == \"__main__\":\n",
    "    process = multiprocessing.Process(target=my_function, args=(5,))\n",
    "    process.start()\n",
    "    process.join()\n",
    "\n",
    "    print(\"Main process continues...\")\n"
   ]
  },
  {
   "cell_type": "markdown",
   "id": "fa8301b7-8213-4814-b42c-2bbce948f5af",
   "metadata": {},
   "source": [
    "Solution . 4"
   ]
  },
  {
   "cell_type": "markdown",
   "id": "a049aac0-fcbe-48a5-a4ac-bfd7cf06ea79",
   "metadata": {},
   "source": [
    "The multiprocessing.Pool class is a part of the multiprocessing module and provides a convenient way to create a pool of worker processes. This pool can be used to distribute tasks across multiple processes, which can execute them concurrently."
   ]
  },
  {
   "cell_type": "markdown",
   "id": "3390da55-d5a9-4768-8d21-40f09eaa78a9",
   "metadata": {},
   "source": [
    "Solution . 5"
   ]
  },
  {
   "cell_type": "code",
   "execution_count": 27,
   "id": "184eeba5-a640-471b-8263-1f3f2dc52665",
   "metadata": {},
   "outputs": [
    {
     "name": "stdout",
     "output_type": "stream",
     "text": [
      "2\n",
      "4\n",
      "6\n",
      "8\n",
      "10\n"
     ]
    }
   ],
   "source": [
    "import multiprocessing\n",
    "\n",
    "def my_task(x):\n",
    "    return x * 2\n",
    "\n",
    "if __name__ == \"__main__\":\n",
    "    num_processes = multiprocessing.cpu_count()\n",
    "    pool = multiprocessing.Pool(processes=num_processes)\n",
    "    \n",
    "    input_data = [1, 2, 3, 4, 5]\n",
    "    results = pool.map(my_task, input_data)\n",
    "    \n",
    "    pool.close()\n",
    "    pool.join()\n",
    "    \n",
    "    for result in results:\n",
    "        print(result)\n"
   ]
  },
  {
   "cell_type": "markdown",
   "id": "692c7731-f731-4d54-9943-f25910351e60",
   "metadata": {},
   "source": [
    "Solution . 6"
   ]
  },
  {
   "cell_type": "code",
   "execution_count": 53,
   "id": "b330538f-64e0-4c0a-afc8-3cdec6ef8ba0",
   "metadata": {},
   "outputs": [
    {
     "name": "stdout",
     "output_type": "stream",
     "text": [
      "Process 1: My num is 2661 and I'm printing 1\n",
      "Process 2: My num is 2664 and I'm printing 2\n",
      "Process 3: My num is 2669 and I'm printing 3\n",
      "Process 4: My num is 2674 and I'm printing 4\n"
     ]
    }
   ],
   "source": [
    "import multiprocessing\n",
    "\n",
    "def print_number(number):\n",
    "    print(f\"Process {number}: My num is {multiprocessing.current_process().pid} and I'm printing {number}\")\n",
    "\n",
    "if __name__ == \"__main__\":\n",
    "    processes = []\n",
    "    \n",
    "    for i in range(1, 5):\n",
    "        process = multiprocessing.Process(target=print_number, args=(i,))\n",
    "        processes.append(process)\n",
    "        process.start()\n",
    "    \n",
    "    for process in processes:\n",
    "        process.join()\n",
    "\n"
   ]
  },
  {
   "cell_type": "code",
   "execution_count": null,
   "id": "194a793c-012e-4eae-aba7-19f7bb35db86",
   "metadata": {},
   "outputs": [],
   "source": []
  }
 ],
 "metadata": {
  "kernelspec": {
   "display_name": "Python 3 (ipykernel)",
   "language": "python",
   "name": "python3"
  },
  "language_info": {
   "codemirror_mode": {
    "name": "ipython",
    "version": 3
   },
   "file_extension": ".py",
   "mimetype": "text/x-python",
   "name": "python",
   "nbconvert_exporter": "python",
   "pygments_lexer": "ipython3",
   "version": "3.10.8"
  }
 },
 "nbformat": 4,
 "nbformat_minor": 5
}
